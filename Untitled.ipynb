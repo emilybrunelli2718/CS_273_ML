{
 "cells": [
  {
   "cell_type": "code",
   "execution_count": 1,
   "metadata": {},
   "outputs": [],
   "source": [
    "import numpy as np\n",
    "import matplotlib.pyplot as plt\n",
    "import mltools as ml"
   ]
  },
  {
   "cell_type": "markdown",
   "metadata": {},
   "source": [
    "**LINEAR REGRESSION**\n",
    "\n",
    "1) Load the “data/curve80.txt” data set, and split it into 75% / 25% training/test. The first column\n",
    "data[:,0] is the scalar feature (x) values; the second column data[:,1] is the target value y\n",
    "for each example. For consistency in our results, don’t reorder (shuffle) the data (they’re already in a\n",
    "random order), and use the first 75% of the data for training and the rest for testing:"
   ]
  },
  {
   "cell_type": "code",
   "execution_count": 2,
   "metadata": {},
   "outputs": [],
   "source": [
    "data = np.genfromtxt(\"curve80.txt\", delimiter = None)\n",
    "X = data[:,0]\n",
    "X = np.atleast_2d(X).T # code expects shape (M,N) so make sure it’s 2-dimensional\n",
    "Y = data[:,1] # doesn’t matter for Y\n",
    "Xtr,Xte,Ytr,Yte = ml.splitData(X,Y,0.75) # split data set 75/25"
   ]
  },
  {
   "cell_type": "markdown",
   "metadata": {},
   "source": [
    "Print the shape of these 4 objects:"
   ]
  },
  {
   "cell_type": "code",
   "execution_count": 3,
   "metadata": {},
   "outputs": [
    {
     "name": "stdout",
     "output_type": "stream",
     "text": [
      "(60, 1)\n",
      "(20, 1)\n",
      "(60,)\n",
      "(20,)\n"
     ]
    }
   ],
   "source": [
    "print(Xtr.shape)\n",
    "print(Xte.shape)\n",
    "print(Ytr.shape)\n",
    "print(Yte.shape)"
   ]
  },
  {
   "cell_type": "markdown",
   "metadata": {},
   "source": [
    "2) Use the provided linearRegress class to create a linear regression predictor of y given x. You\n",
    "can plot the resulting function by simply evaluating the model at a large number of x values, xs:\n",
    "\n",
    "(a) Plot the training data points along with your prediction function in a single plot. (10 points)\n"
   ]
  },
  {
   "cell_type": "code",
   "execution_count": 4,
   "metadata": {},
   "outputs": [
    {
     "name": "stdout",
     "output_type": "stream",
     "text": [
      "(200, 1)\n",
      "(200, 1)\n"
     ]
    },
    {
     "data": {
      "text/plain": [
       "[<matplotlib.lines.Line2D at 0x1be2449d5c8>]"
      ]
     },
     "execution_count": 4,
     "metadata": {},
     "output_type": "execute_result"
    },
    {
     "data": {
      "image/png": "[encoded data removed]",
      "text/plain": [
       "<Figure size 432x288 with 1 Axes>"
      ]
     },
     "metadata": {
      "needs_background": "light"
     },
     "output_type": "display_data"
    }
   ],
   "source": [
    "lr = ml.linear.linearRegress(Xtr, Ytr) # create and train model\n",
    "xs = np.linspace(0,10,200) # densely sample possible x-values\n",
    "xs = xs[:,np.newaxis] # force \"xs\" to be an Mx1 matrix (expected by ourcode)\n",
    "ys = lr.predict(xs) # make predictions at xs\n",
    "print(ys.shape)\n",
    "print(xs.shape)\n",
    "plt.scatter(Xtr, Ytr)\n",
    "plt.plot(xs, lr.predict(xs))"
   ]
  },
  {
   "cell_type": "markdown",
   "metadata": {},
   "source": [
    "\n",
    "(b) Print the linear regression coefficients (lr.theta) and verify that they match your plot. (5\n",
    "points)"
   ]
  },
  {
   "cell_type": "code",
   "execution_count": 5,
   "metadata": {},
   "outputs": [
    {
     "name": "stdout",
     "output_type": "stream",
     "text": [
      "[[-2.82765049  0.83606916]]\n"
     ]
    }
   ],
   "source": [
    "print(lr.theta)"
   ]
  },
  {
   "cell_type": "markdown",
   "metadata": {},
   "source": [
    "(c) What is the mean squared error of the predictions on the training and test data? (10 points)\n"
   ]
  },
  {
   "cell_type": "code",
   "execution_count": 9,
   "metadata": {},
   "outputs": [
    {
     "name": "stdout",
     "output_type": "stream",
     "text": [
      "2.2423492030101246\n",
      "1.127711955609391\n"
     ]
    }
   ],
   "source": [
    "print(lr.mse(Xte, Yte))\n",
    "print(lr.mse(Xtr, Ytr))"
   ]
  },
  {
   "cell_type": "markdown",
   "metadata": {},
   "source": [
    "Try fitting y = f(x) using a polynomial function f(x) of increasing order. Do this by the trick of\n",
    "adding additional polynomial features before constructing and training the linear regression object.\n",
    "You can do this easily yourself; you can add a quadratic feature of Xtr with"
   ]
  },
  {
   "cell_type": "code",
   "execution_count": 3,
   "metadata": {},
   "outputs": [],
   "source": [
    "Xtr2 = np.zeros( (Xtr.shape[0],2) ) # create Mx2 array to store features\n",
    "Xtr2[:,0] = Xtr[:,0] # place original \"x\" feature as X1\n",
    "Xtr2[:,1] = Xtr[:,0]**2 # place \"xˆ2\" feature as X2\n",
    "#print(Xtr2)\n",
    "#Now, Xtr2 has two features about each data point: \"x\" and \"xˆ2\""
   ]
  },
  {
   "cell_type": "markdown",
   "metadata": {},
   "source": [
    "Train models of degree d = 1, 3, 5, 7, 10, 18 and:\n",
    "(a) plot their learned prediction functions f(x) (15 points)"
   ]
  },
  {
   "cell_type": "code",
   "execution_count": 10,
   "metadata": {},
   "outputs": [
    {
     "name": "stdout",
     "output_type": "stream",
     "text": [
      "(60, 3) (60, 1)\n"
     ]
    },
    {
     "data": {
      "image/png": "[encoded data removed]",
      "text/plain": [
       "<Figure size 432x288 with 1 Axes>"
      ]
     },
     "metadata": {
      "needs_background": "light"
     },
     "output_type": "display_data"
    }
   ],
   "source": [
    "degrees = [3]\n",
    "# Create polynomial features up to \"degree\"; don’t create constant feature\n",
    "# (the linear regression learner will add the constant feature automatically)\n",
    "train_error = []\n",
    "test_error = []\n",
    "\n",
    "for d in degrees:\n",
    "    XtrP = ml.transforms.fpoly(Xtr, d, bias=False)\n",
    "    #print(XtrP)\n",
    "    #print(Xtr)\n",
    "    XtrP,params = ml.transforms.rescale(XtrP)\n",
    "    print(XtrP.shape, Xtr.shape)\n",
    "    #Xtr,params = ml.transforms.rescale(Xtr)\n",
    "    #XtrP = ml.transforms.fpoly(Xtr, d, bias=False)\n",
    "    XteP,_ = ml.transforms.rescale( ml.transforms.fpoly(Xte,d,False), params)\n",
    "    lr = ml.linear.linearRegress(XtrP, Ytr) \n",
    "    xs = np.linspace(0,10,200) \n",
    "    xs = xs[:,np.newaxis] \n",
    "    xs_p = ml.transforms.fpoly(xs, d, bias=False)\n",
    "    xs_p,params = ml.transforms.rescale(xs_p)\n",
    "    test_error.append(lr.mse(XteP, Yte))\n",
    "    train_error.append(lr.mse(XtrP, Ytr))\n",
    "    plt.figure()\n",
    "    plt.plot(xs, lr.predict(xs_p))\n"
   ]
  },
  {
   "cell_type": "markdown",
   "metadata": {},
   "source": [
    "(b) plot their training and test errors on a log scale (semilogy) as a function of the degree. (10\n",
    "points)"
   ]
  },
  {
   "cell_type": "code",
   "execution_count": 12,
   "metadata": {},
   "outputs": [
    {
     "data": {
      "text/plain": [
       "Text(0, 0.5, 'MSE')"
      ]
     },
     "execution_count": 12,
     "metadata": {},
     "output_type": "execute_result"
    },
    {
     "data": {
      "image/png": "[encoded data removed]",
      "text/plain": [
       "<Figure size 432x288 with 1 Axes>"
      ]
     },
     "metadata": {
      "needs_background": "light"
     },
     "output_type": "display_data"
    }
   ],
   "source": [
    "plt.semilogy(degrees, train_error, color = 'red')\n",
    "plt.semilogy(degrees, test_error, color = 'green')\n",
    "plt.xlabel(\"Degree of polynomial\")\n",
    "plt.ylabel(\"MSE\")"
   ]
  },
  {
   "cell_type": "markdown",
   "metadata": {},
   "source": [
    "(c) What polynomial degree do you recommend? \n",
    "\n",
    "Based on this, I would recommend a polynomial of degree 10. "
   ]
  },
  {
   "cell_type": "markdown",
   "metadata": {},
   "source": [
    "**CROSS-VALIDATION**"
   ]
  },
  {
   "cell_type": "markdown",
   "metadata": {},
   "source": [
    "Using this technique on your training data Xtr from the previous problem, find the 5-fold crossvalidation MSE of linear regression at the same degrees as before, d = 1, 3, 5, 7, 10, 18 (or more densely, if\n",
    "you prefer). Again, a function that has degree and number of folds as arguments, and returns cross-validation\n",
    "error, will be useful.\n",
    "\n",
    "1. Plot the five-fold cross-validation error and test error (with semilogy, as before) as a function of\n",
    "degree. (10 points)"
   ]
  },
  {
   "cell_type": "code",
   "execution_count": 13,
   "metadata": {},
   "outputs": [
    {
     "data": {
      "text/plain": [
       "Text(0, 0.5, 'MSE')"
      ]
     },
     "execution_count": 13,
     "metadata": {},
     "output_type": "execute_result"
    },
    {
     "data": {
      "image/png": "[encoded data removed]",
      "text/plain": [
       "<Figure size 432x288 with 1 Axes>"
      ]
     },
     "metadata": {
      "needs_background": "light"
     },
     "output_type": "display_data"
    }
   ],
   "source": [
    "def cv_model(nFolds, degrees):\n",
    "    cv_error = []\n",
    "    test_e = []\n",
    "    for d in degrees:\n",
    "        XtrP = ml.transforms.fpoly(Xtr, d, bias=False)\n",
    "        XtrP,params = ml.transforms.rescale(XtrP)\n",
    "        XteP,_ = ml.transforms.rescale(ml.transforms.fpoly(Xte,d,False), params)\n",
    "        c_e = []\n",
    "        t_e = []\n",
    "        for iFold in range(nFolds):\n",
    "            Xti,Xvi,Yti,Yvi = ml.crossValidate(XtrP,Ytr,nFolds,iFold) # use ith block as validation\n",
    "            learner = ml.linear.linearRegress(Xti, Yti) \n",
    "            c_e.append(learner.mse(Xvi, Yvi))\n",
    "            t_e.append(learner.mse(XteP, Yte))\n",
    "        cv_error.append(np.mean(c_e))\n",
    "        test_e.append(np.mean(t_e))\n",
    "    return cv_error, test_e\n",
    "\n",
    "cv_e, t_e = cv_model(5, range(1,19))\n",
    "plt.semilogy(range(1,19), cv_e, color = 'red')\n",
    "plt.semilogy(range(1,19), t_e, color = 'green')\n",
    "plt.xlabel(\"Degree of polynomial\")\n",
    "plt.ylabel(\"MSE\")\n"
   ]
  },
  {
   "cell_type": "markdown",
   "metadata": {},
   "source": [
    "2) How do the MSE estimates from five-fold cross-validation compare to the MSEs evaluated on the\n",
    "actual test data (Problem 1)?"
   ]
  },
  {
   "cell_type": "markdown",
   "metadata": {},
   "source": [
    "The estimates are very similar, and the reason is because the CV error is an unbiased estimator of the test error. On the graph where we DIDN'T use cross-validation, the train set and test set error are pretty drastically different. "
   ]
  },
  {
   "cell_type": "markdown",
   "metadata": {},
   "source": [
    "3) Which polynomial degree do you recommend based on five-fold cross-validation error? (5 points)\n",
    "\n",
    "I would recommend using degree 6, which is where the min error on the 5-fold CV error occurs. \n",
    "We should be doing parameter selection based on the performance of the validation set, not the test set.\n",
    "The test set is used to evaluate performance of a particular model, but not to evaluate hyperparameters like what degree polynomial we should use. "
   ]
  },
  {
   "cell_type": "markdown",
   "metadata": {},
   "source": [
    "4) For the degree that you picked in step 3, plot the cross-validation error as the number of folds is varied\n",
    "(nFolds = 2, 3, 4, 5, 6, 10, 12, 15), again with semilogy. What pattern do you observe, and how do\n",
    "you explain it? (15 points)\n",
    "\n",
    "What's happening is that the cross validation error is decreasing as we increase the number of folds. I assume we'd have minimum error if we leave out only one data point while doing cross fold validation,  but the issue with that is it would be very slow. It makes sense that error decreases with more folds because there's a tradeoff between bias and variance. \n"
   ]
  },
  {
   "cell_type": "code",
   "execution_count": 14,
   "metadata": {},
   "outputs": [
    {
     "data": {
      "text/plain": [
       "Text(0, 0.5, 'Cross validation error')"
      ]
     },
     "execution_count": 14,
     "metadata": {},
     "output_type": "execute_result"
    },
    {
     "data": {
      "image/png": "[encoded data removed]",
      "text/plain": [
       "<Figure size 432x288 with 1 Axes>"
      ]
     },
     "metadata": {
      "needs_background": "light"
     },
     "output_type": "display_data"
    }
   ],
   "source": [
    "folds = [2, 3, 4, 5, 6, 10, 12, 15]\n",
    "degree = [6]\n",
    "cross_val_error = [] \n",
    "for f in folds:\n",
    "    cross_val_error.append(cv_model(f, degree)[0])\n",
    "plt.plot(folds, cross_val_error)\n",
    "plt.xlabel(\"Folds\")\n",
    "plt.ylabel(\"Cross validation error\")"
   ]
  },
  {
   "cell_type": "markdown",
   "metadata": {},
   "source": [
    " **COLLABORATION STATEMENT**\n",
    " \n",
    " I worked alone for the HW. "
   ]
  }
 ],
 "metadata": {
  "kernelspec": {
   "display_name": "Python 3",
   "language": "python",
   "name": "python3"
  },
  "language_info": {
   "codemirror_mode": {
    "name": "ipython",
    "version": 3
   },
   "file_extension": ".py",
   "mimetype": "text/x-python",
   "name": "python",
   "nbconvert_exporter": "python",
   "pygments_lexer": "ipython3",
   "version": "3.7.4"
  }
 },
 "nbformat": 4,
 "nbformat_minor": 4
}
