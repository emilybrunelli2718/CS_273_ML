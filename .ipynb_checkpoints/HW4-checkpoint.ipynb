{
 "cells": [
  {
   "cell_type": "code",
   "execution_count": 12,
   "metadata": {},
   "outputs": [],
   "source": [
    "import numpy as np\n",
    "import mltools as ml\n",
    "import matplotlib.pyplot as plt\n",
    "from logisticClassify2 import *"
   ]
  },
  {
   "cell_type": "code",
   "execution_count": 13,
   "metadata": {},
   "outputs": [],
   "source": [
    "X = np.genfromtxt('X_train.txt', delimiter=None)\n",
    "Y = np.genfromtxt('Y_train.txt', delimiter=None)\n",
    "X,Y = ml.shuffleData(X,Y)"
   ]
  },
  {
   "cell_type": "markdown",
   "metadata": {},
   "source": [
    "**Setting up the data and Linear Classifier (10 + 20 points)**"
   ]
  },
  {
   "cell_type": "markdown",
   "metadata": {},
   "source": [
    "1) Print the minimum, maximum, mean, and the variance of all of the features. 5 points"
   ]
  },
  {
   "cell_type": "code",
   "execution_count": 14,
   "metadata": {},
   "outputs": [
    {
     "data": {
      "text/plain": [
       "array([ 1.9350e+02,  1.5250e+02,  2.1425e+02,  1.5250e+02,  1.0000e+01,\n",
       "        0.0000e+00,  0.0000e+00,  0.0000e+00,  8.7589e-01,  0.0000e+00,\n",
       "        0.0000e+00,  0.0000e+00,  9.9049e-01, -9.9990e+02])"
      ]
     },
     "execution_count": 14,
     "metadata": {},
     "output_type": "execute_result"
    }
   ],
   "source": [
    "X.min(axis = 0)"
   ]
  },
  {
   "cell_type": "code",
   "execution_count": 15,
   "metadata": {},
   "outputs": [
    {
     "data": {
      "text/plain": [
       "array([2.5300e+02, 2.4900e+02, 2.5250e+02, 2.5250e+02, 3.1048e+04,\n",
       "       1.3630e+04, 9.2380e+03, 1.2517e+02, 1.9167e+01, 1.3230e+01,\n",
       "       6.6761e+01, 7.3902e+01, 9.7504e+02, 7.9720e+02])"
      ]
     },
     "execution_count": 15,
     "metadata": {},
     "output_type": "execute_result"
    }
   ],
   "source": [
    "X.max(axis = 0)"
   ]
  },
  {
   "cell_type": "code",
   "execution_count": 17,
   "metadata": {},
   "outputs": [
    {
     "data": {
      "text/plain": [
       "array([8.34991711e+01, 9.26255931e+01, 3.52863398e+01, 9.76257317e+01,\n",
       "       1.56515138e+07, 3.08176182e+06, 4.43951746e+05, 8.21948502e+00,\n",
       "       6.40504819e+00, 4.36344047e+00, 4.08637188e+00, 2.19877847e+00,\n",
       "       4.04646245e+02, 3.40652055e+03])"
      ]
     },
     "execution_count": 17,
     "metadata": {},
     "output_type": "execute_result"
    }
   ],
   "source": [
    "np.var(X, axis = 0)"
   ]
  },
  {
   "cell_type": "markdown",
   "metadata": {},
   "source": [
    "2) Split the dataset, and rescale each into training and validation, as:"
   ]
  },
  {
   "cell_type": "code",
   "execution_count": 18,
   "metadata": {},
   "outputs": [],
   "source": [
    "Xtr, Xva, Ytr, Yva = ml.splitData(X, Y)\n",
    "Xt, Yt = Xtr[:5000], Ytr[:5000] # subsample for efficiency (you can go higher\n",
    "\n",
    "XtS, params = ml.rescale(Xt) # Normalize the features\n",
    "XvS, _ = ml.rescale(Xva, params) "
   ]
  },
  {
   "cell_type": "markdown",
   "metadata": {},
   "source": [
    "Print the min, maximum, mean, and the variance of the rescaled features. 5 points"
   ]
  },
  {
   "cell_type": "code",
   "execution_count": 19,
   "metadata": {},
   "outputs": [
    {
     "data": {
      "text/plain": [
       "array([ -4.41636809,  -3.57747436,  -4.34932101,  -2.80262387,\n",
       "        -0.79104961,  -0.52456168,  -0.21044128,  -1.11812404,\n",
       "        -1.91518772,  -1.00456439,  -2.1057878 ,  -1.94128961,\n",
       "        -0.57719617, -16.44286633])"
      ]
     },
     "execution_count": 19,
     "metadata": {},
     "output_type": "execute_result"
    }
   ],
   "source": [
    "XtS.min(axis = 0)"
   ]
  },
  {
   "cell_type": "code",
   "execution_count": 20,
   "metadata": {},
   "outputs": [
    {
     "data": {
      "text/plain": [
       "array([ 1.2471437 ,  1.72368079,  1.77456441,  1.88568885,  7.22517902,\n",
       "        6.92266827, 12.20182622,  9.15822722,  4.3678414 ,  5.13317425,\n",
       "        6.78400795,  5.95940656, 30.72499572, 11.86254433])"
      ]
     },
     "execution_count": 20,
     "metadata": {},
     "output_type": "execute_result"
    }
   ],
   "source": [
    "XtS.max(axis = 0)"
   ]
  },
  {
   "cell_type": "code",
   "execution_count": 21,
   "metadata": {},
   "outputs": [
    {
     "data": {
      "text/plain": [
       "array([1., 1., 1., 1., 1., 1., 1., 1., 1., 1., 1., 1., 1., 1.])"
      ]
     },
     "execution_count": 21,
     "metadata": {},
     "output_type": "execute_result"
    }
   ],
   "source": [
    "np.var(XtS, axis = 0)"
   ]
  },
  {
   "cell_type": "code",
   "execution_count": 12,
   "metadata": {},
   "outputs": [
    {
     "name": "stderr",
     "output_type": "stream",
     "text": [
      "C:\\Users\\emily\\CS_273\\mltools\\base.py:96: RuntimeWarning: divide by zero encountered in log\n",
      "  return - np.mean( np.log( P[ np.arange(M), Y ] ) ) # evaluate\n",
      "C:\\Users\\emily\\CS_273\\mltools\\linearC.py:134: RuntimeWarning: invalid value encountered in double_scalars\n",
      "  done = (it > stopIter) or ( (it>1) and (abs(Jsur[-1]-Jsur[-2])<stopTol) )\n"
     ]
    },
    {
     "data": {
      "text/plain": [
       "0.6616626562232976"
      ]
     },
     "execution_count": 12,
     "metadata": {},
     "output_type": "execute_result"
    }
   ],
   "source": [
    "learner = ml.linearC.linearClassify()\n",
    "learner.train(XtS, Yt, reg=0.0, initStep=0.5, stopTol=1e-6, stopIter=100)\n",
    "learner.auc(XtS, Yt)"
   ]
  },
  {
   "cell_type": "markdown",
   "metadata": {},
   "source": [
    "3) One of the important aspects of using linear classifiers is the regularization.\n",
    "Vary the amount of regularization, reg, in a wide enough range, and plot the training and \n",
    "validation AUC as the regularization\n",
    "weight is varied. Show the plot."
   ]
  },
  {
   "cell_type": "code",
   "execution_count": 24,
   "metadata": {},
   "outputs": [
    {
     "name": "stderr",
     "output_type": "stream",
     "text": [
      "C:\\Users\\emily\\CS_273\\mltools\\base.py:96: RuntimeWarning: divide by zero encountered in log\n",
      "  return - np.mean( np.log( P[ np.arange(M), Y ] ) ) # evaluate\n",
      "C:\\Users\\emily\\CS_273\\mltools\\linearC.py:122: RuntimeWarning: overflow encountered in exp\n",
      "  sigx  = np.exp(respi) / (1.0+np.exp(respi))\n",
      "C:\\Users\\emily\\CS_273\\mltools\\linearC.py:122: RuntimeWarning: invalid value encountered in true_divide\n",
      "  sigx  = np.exp(respi) / (1.0+np.exp(respi))\n",
      "C:\\Users\\emily\\CS_273\\mltools\\linearC.py:121: RuntimeWarning: invalid value encountered in greater\n",
      "  yhati = 1.0 if respi > 0 else 0.0   # convert to 0/1 prediction\n"
     ]
    }
   ],
   "source": [
    "reg_range = np.arange(0.0, 6, 0.5)\n",
    "auc_train = []\n",
    "auc_val = []\n",
    "for r in reg_range:\n",
    "    learner = ml.linearC.linearClassify()\n",
    "    learner.train(XtS, Yt, reg=r, initStep=0.5, stopTol=1e-6, stopIter=100)\n",
    "    auc_train.append(learner.auc(Xt, Yt))\n",
    "    auc_val.append(learner.auc(Xva, Yva))"
   ]
  },
  {
   "cell_type": "code",
   "execution_count": 27,
   "metadata": {},
   "outputs": [
    {
     "data": {
      "text/plain": [
       "Text(0, 0.5, 'AUC')"
      ]
     },
     "execution_count": 27,
     "metadata": {},
     "output_type": "execute_result"
    },
    {
     "data": {
      "image/png": "[encoded data removed]",
      "text/plain": [
       "<Figure size 432x288 with 1 Axes>"
      ]
     },
     "metadata": {
      "needs_background": "light"
     },
     "output_type": "display_data"
    }
   ],
   "source": [
    "plt.plot(reg_range, auc_train, color = \"b\")\n",
    "#plt.show()\n",
    "plt.plot(reg_range, auc_val, color = \"r\")\n",
    "plt.xlabel(\"Regularization\")\n",
    "plt.ylabel(\"AUC\")"
   ]
  },
  {
   "cell_type": "markdown",
   "metadata": {},
   "source": [
    "4) We have also studied the use of polynomial features to make linear classifiers more complex. Add\n",
    "degree 2 polynomial features, print out the number of features, why it is what it is:\n",
    "\n",
    "We have 119 features (not 28) because we're also taking the cross products of all the original 14 features. "
   ]
  },
  {
   "cell_type": "code",
   "execution_count": 33,
   "metadata": {},
   "outputs": [],
   "source": [
    "XtP = ml.transforms.fpoly(Xt, 2, bias=False)\n",
    "XtPS, params_poly = ml.rescale(XtP) # Normalize the features\n",
    "XvP = ml.transforms.fpoly(Xva, 2, bias=False)\n",
    "XvP, _ = ml.rescale(XvP, params_poly)"
   ]
  },
  {
   "cell_type": "code",
   "execution_count": 34,
   "metadata": {},
   "outputs": [
    {
     "name": "stdout",
     "output_type": "stream",
     "text": [
      "(5000, 119) (5000, 14)\n",
      "(40000, 119) (40000, 14)\n"
     ]
    }
   ],
   "source": [
    "print(XtPS.shape, Xt.shape)\n",
    "print(XvP.shape, Xva.shape)"
   ]
  },
  {
   "cell_type": "markdown",
   "metadata": {},
   "source": [
    "5) Reuse your code that varied regularization to compute the training and validation performance (AUC)\n",
    "for this transformed data. Show the plot"
   ]
  },
  {
   "cell_type": "code",
   "execution_count": 36,
   "metadata": {},
   "outputs": [
    {
     "name": "stderr",
     "output_type": "stream",
     "text": [
      "C:\\Users\\emily\\CS_273\\mltools\\linearC.py:122: RuntimeWarning: overflow encountered in exp\n",
      "  sigx  = np.exp(respi) / (1.0+np.exp(respi))\n",
      "C:\\Users\\emily\\CS_273\\mltools\\linearC.py:122: RuntimeWarning: invalid value encountered in true_divide\n",
      "  sigx  = np.exp(respi) / (1.0+np.exp(respi))\n",
      "C:\\Users\\emily\\CS_273\\mltools\\linearC.py:121: RuntimeWarning: invalid value encountered in greater\n",
      "  yhati = 1.0 if respi > 0 else 0.0   # convert to 0/1 prediction\n",
      "C:\\Users\\emily\\CS_273\\mltools\\base.py:96: RuntimeWarning: divide by zero encountered in log\n",
      "  return - np.mean( np.log( P[ np.arange(M), Y ] ) ) # evaluate\n",
      "C:\\Users\\emily\\CS_273\\mltools\\linearC.py:134: RuntimeWarning: invalid value encountered in double_scalars\n",
      "  done = (it > stopIter) or ( (it>1) and (abs(Jsur[-1]-Jsur[-2])<stopTol) )\n"
     ]
    },
    {
     "name": "stdout",
     "output_type": "stream",
     "text": [
      "[0.5059939832259632, 0.6384640689618132, 0.6313210048592128, 0.6265919999660788, 0.6230233830184786, 0.6203418409604224, 0.5059939832259632, 0.5059939832259632, 0.5059939832259632, 0.5059939832259632, 0.5059939832259632, 0.5059939832259632]\n",
      "[0.49977918309746044, 0.6383486304331131, 0.6332512029351045, 0.6290484935150854, 0.6258305522225072, 0.623397789453294, 0.49977918309746044, 0.49977918309746044, 0.49977918309746044, 0.49977918309746044, 0.49977918309746044, 0.49977918309746044]\n"
     ]
    },
    {
     "data": {
      "text/plain": [
       "Text(0, 0.5, 'AUC')"
      ]
     },
     "execution_count": 36,
     "metadata": {},
     "output_type": "execute_result"
    },
    {
     "data": {
      "image/png": "[encoded data removed]",
      "text/plain": [
       "<Figure size 432x288 with 1 Axes>"
      ]
     },
     "metadata": {
      "needs_background": "light"
     },
     "output_type": "display_data"
    }
   ],
   "source": [
    "reg_range= np.arange(0.0, 6, 0.5)\n",
    "auc_train_poly = []\n",
    "auc_val_poly = []\n",
    "for r in reg_range:\n",
    "    learner = ml.linearC.linearClassify()\n",
    "    learner.train(XtPS, Yt, reg=r, initStep=0.5, stopTol=1e-6, stopIter=100)\n",
    "    auc_train_poly.append(learner.auc(XtPS, Yt))\n",
    "    auc_val_poly.append(learner.auc(XvP, Yva))\n",
    "\n",
    "print(auc_train_poly)\n",
    "print(auc_val_poly)\n",
    "\n",
    "plt.plot(reg_range, auc_train_poly, color = \"b\")\n",
    "#plt.show()\n",
    "plt.plot(reg_range, auc_val_poly, color = \"r\")\n",
    "plt.xlabel(\"Regularization\")\n",
    "plt.ylabel(\"AUC\")"
   ]
  },
  {
   "cell_type": "markdown",
   "metadata": {},
   "source": [
    "**Nearest Neighbors (20 points)**\n",
    "\n",
    "In this problem, you will analyze an existing implementation of K-Nearest-neighbor classification for the\n",
    "Kaggle dataset. The K-nearest neighbor classifier implementation supports two hyperparameters: the size of\n",
    "the neighborhood, K, and how much to weigh the distance to the point, a (0 means no unweighted average,\n",
    "and the higher the α, the higher the closer ones are weighted1\n",
    "). Note, you might have to subsample a lot for\n",
    "KNN to be efficient\n",
    "\n",
    "1) Plot of the training and validation performance for an appropriately wide range of K, with α = 0. 5\n",
    "points\n"
   ]
  },
  {
   "cell_type": "code",
   "execution_count": 14,
   "metadata": {},
   "outputs": [
    {
     "data": {
      "text/plain": [
       "0.9964451308798081"
      ]
     },
     "execution_count": 14,
     "metadata": {},
     "output_type": "execute_result"
    }
   ],
   "source": [
    "knn_learner = ml.knn.knnClassify()\n",
    "knn_learner.train(XtS, Yt, K=1, alpha=0.0)\n",
    "knn_learner.auc(XtS, Yt) # train AUC\n"
   ]
  },
  {
   "cell_type": "code",
   "execution_count": 37,
   "metadata": {},
   "outputs": [],
   "source": [
    "k_range = [1, 5, 20, 50, 100, 200, 500]\n",
    "knn_auc_train = []\n",
    "knn_auc_validation = []\n",
    "for k in k_range:\n",
    "    knn_learner = ml.knn.knnClassify()\n",
    "    knn_learner.train(XtS, Yt, K=k, alpha=0.5)\n",
    "    knn_auc_train.append(knn_learner.auc(XtS, Yt))\n",
    "    knn_auc_validation.append(knn_learner.auc(XvS, Yva))\n"
   ]
  },
  {
   "cell_type": "code",
   "execution_count": 38,
   "metadata": {},
   "outputs": [
    {
     "data": {
      "text/plain": [
       "[<matplotlib.lines.Line2D at 0x2d7235f7f48>]"
      ]
     },
     "execution_count": 38,
     "metadata": {},
     "output_type": "execute_result"
    },
    {
     "data": {
      "image/png": "[encoded data removed]",
      "text/plain": [
       "<Figure size 432x288 with 1 Axes>"
      ]
     },
     "metadata": {
      "needs_background": "light"
     },
     "output_type": "display_data"
    }
   ],
   "source": [
    "plt.plot(k_range, knn_auc_train, color = \"b\")\n",
    "plt.plot(k_range, knn_auc_validation, color = 'r')\n"
   ]
  },
  {
   "cell_type": "markdown",
   "metadata": {},
   "source": [
    "2) Do the same with unscaled/original data, and show the plots"
   ]
  },
  {
   "cell_type": "code",
   "execution_count": 39,
   "metadata": {},
   "outputs": [
    {
     "name": "stderr",
     "output_type": "stream",
     "text": [
      "C:\\Users\\emily\\CS_273\\mltools\\knn.py:103: RuntimeWarning: invalid value encountered in true_divide\n",
      "  prob[i,:] = count / count.sum()    # save (soft) results\n"
     ]
    },
    {
     "data": {
      "text/plain": [
       "[<matplotlib.lines.Line2D at 0x2d723813bc8>]"
      ]
     },
     "execution_count": 39,
     "metadata": {},
     "output_type": "execute_result"
    },
    {
     "data": {
      "image/png": "[encoded data removed]",
      "text/plain": [
       "<Figure size 432x288 with 1 Axes>"
      ]
     },
     "metadata": {
      "needs_background": "light"
     },
     "output_type": "display_data"
    }
   ],
   "source": [
    "k_range = [1, 5, 10, 20, 35, 50]\n",
    "knn_auc_train = []\n",
    "knn_auc_validation = []\n",
    "for k in k_range:\n",
    "    knn_learner = ml.knn.knnClassify()\n",
    "    knn_learner.train(Xt, Yt, K=k, alpha=0.5)\n",
    "    knn_auc_train.append(knn_learner.auc(Xt, Yt))\n",
    "    knn_auc_validation.append(knn_learner.auc(Xva, Yva))\n",
    "    \n",
    "plt.plot(k_range, knn_auc_train, color = \"b\")\n",
    "plt.plot(k_range, knn_auc_validation, color = 'r')"
   ]
  },
  {
   "cell_type": "code",
   "execution_count": 42,
   "metadata": {},
   "outputs": [
    {
     "name": "stdout",
     "output_type": "stream",
     "text": [
      "[0.9979272729328559, 0.9999787992458185, 0.9999787992458185, 0.9999787992458185, 0.9999787992458185, 0.9999787992458185]\n",
      "[0.5719001946205753, 0.5789981555290742, 0.5770354072677294, 0.5764864584508017, 0.5764865881576846, 0.5764865881576846]\n"
     ]
    }
   ],
   "source": [
    "print(knn_auc_train)\n",
    "print(knn_auc_validation)"
   ]
  },
  {
   "cell_type": "markdown",
   "metadata": {},
   "source": [
    "3) Since we need to select both the value of K and α, we need to vary both, and see how the performance\n",
    "changes. For a range of both K and α, compute the training and validation AUC (for unscaled or\n",
    "scaled data, whichever you think would be a better choice), and plot them in a two dimensional plot\n",
    "like so:\n",
    "\n",
    "Show both the plots, and recommend a choice of K and α based on these results. 10 points\n",
    "\n",
    "My results are weird but based on this I would recommend a = 0, k = 5, which is where the highest AUC is on the validation plot. I would do a more extensive hyperparameter search but even with only 36 combinations this already took almost 2 hours... "
   ]
  },
  {
   "cell_type": "code",
   "execution_count": 48,
   "metadata": {},
   "outputs": [
    {
     "name": "stdout",
     "output_type": "stream",
     "text": [
      "1 0\n",
      "1 1\n",
      "1 2\n",
      "1 3\n",
      "3 0\n",
      "3 1\n",
      "3 2\n",
      "3 3\n",
      "5 0\n",
      "5 1\n",
      "5 2\n",
      "5 3\n",
      "7 0\n",
      "7 1\n",
      "7 2\n",
      "7 3\n",
      "9 0\n",
      "9 1\n",
      "9 2\n",
      "9 3\n"
     ]
    }
   ],
   "source": [
    "Xt, Yt = Xtr[:1000], Ytr[:1000] # subsample for efficiency (you can go higher\n",
    "XtS, params2 = ml.rescale(Xt) # Normalize the features\n",
    "XvS, _ = ml.rescale(Xva, params) \n",
    "K = range(1,10,2) # Or something else\n",
    "A = range(0,4, 1) # Or something else\n",
    "tr_auc = np.zeros((len(K),len(A)))\n",
    "va_auc = np.zeros((len(K),len(A)))\n",
    "for i,k in enumerate(K):\n",
    "    for j, a in enumerate(A):\n",
    "        print(k, a)\n",
    "        knn_learner = ml.knn.knnClassify()\n",
    "        knn_learner.train(Xt, Yt, K=k, alpha=a)\n",
    "        tr_auc[i][j] = knn_learner.auc(Xt2, Yt)\n",
    "        va_auc[i][j] = knn_learner.auc(XvS, Yva)\n",
    "# Now plot it\n"
   ]
  },
  {
   "cell_type": "code",
   "execution_count": 54,
   "metadata": {},
   "outputs": [
    {
     "data": {
      "image/png": "[encoded data removed]",
      "text/plain": [
       "<Figure size 576x360 with 2 Axes>"
      ]
     },
     "metadata": {
      "needs_background": "light"
     },
     "output_type": "display_data"
    },
    {
     "name": "stdout",
     "output_type": "stream",
     "text": [
      "[[0.5        0.50599398 0.50599398 0.50599398]\n",
      " [0.5        0.50599398 0.50599398 0.50599398]\n",
      " [0.50939688 0.50599398 0.50599398 0.50599398]\n",
      " [0.5        0.50599398 0.50599398 0.50599398]\n",
      " [0.5        0.50599398 0.50599398 0.50599398]]\n"
     ]
    },
    {
     "data": {
      "image/png": "[encoded data removed]",
      "text/plain": [
       "<Figure size 576x360 with 2 Axes>"
      ]
     },
     "metadata": {
      "needs_background": "light"
     },
     "output_type": "display_data"
    }
   ],
   "source": [
    "f, ax = plt.subplots(1, 1, figsize=(8, 5))\n",
    "cax = ax.matshow(tr_auc, interpolation='none')\n",
    "f.colorbar(cax)\n",
    "ax.set_xticklabels(['']+list(A))\n",
    "ax.set_yticklabels(['']+list(K))\n",
    "plt.show()\n",
    "print(tr_auc)\n",
    "f, ax = plt.subplots(1, 1, figsize=(8, 5))\n",
    "cax = ax.matshow(va_auc, interpolation='none')\n",
    "f.colorbar(cax)\n",
    "ax.set_xticklabels(['']+list(A))\n",
    "ax.set_yticklabels(['']+list(K))\n",
    "plt.show()"
   ]
  },
  {
   "cell_type": "markdown",
   "metadata": {},
   "source": [
    "**DECISION TREES**\n",
    "\n",
    "For this problem, you will be using a similar analysis of hyper-parameters for the decision tree implementation. There are three hyper-parameters in this implementation that become relevant to its performance;\n",
    "maxDepth, minParent, and minLeaf, where the latter two specify the minimum number of data points\n",
    "necessary to split a node and form a node, respectively\n",
    "\n",
    "1) Keeping minParent=2 and minLeaf=1, vary maxDepth to a range of your choosing, and plot\n",
    "the training and validation AUC. 5 points"
   ]
  },
  {
   "cell_type": "code",
   "execution_count": 25,
   "metadata": {},
   "outputs": [],
   "source": [
    "learner = ml.dtree.treeClassify(Xt, Yt, maxDepth=15)"
   ]
  },
  {
   "cell_type": "code",
   "execution_count": 26,
   "metadata": {},
   "outputs": [],
   "source": [
    "depth = [1, 2, 5, 7, 10, 20, 50]\n",
    "train_auc = []\n",
    "val_auc = []\n",
    "\n",
    "for d in depth:\n",
    "    learner = ml.dtree.treeClassify(XtS, Yt, minParent = 2, maxDepth=d, minLeaf = 1)\n",
    "    train_auc.append(learner.auc(XtS, Yt))\n",
    "    val_auc.append(learner.auc(XvS, Yva))\n"
   ]
  },
  {
   "cell_type": "code",
   "execution_count": 28,
   "metadata": {},
   "outputs": [
    {
     "data": {
      "text/plain": [
       "[<matplotlib.lines.Line2D at 0x16a5ed72c08>]"
      ]
     },
     "execution_count": 28,
     "metadata": {},
     "output_type": "execute_result"
    },
    {
     "data": {
      "image/png": "[encoded data removed]",
      "text/plain": [
       "<Figure size 432x288 with 1 Axes>"
      ]
     },
     "metadata": {
      "needs_background": "light"
     },
     "output_type": "display_data"
    }
   ],
   "source": [
    "plt.plot(depth, train_auc, color = 'b')\n",
    "plt.plot(depth, val_auc, color = 'r')"
   ]
  },
  {
   "cell_type": "markdown",
   "metadata": {},
   "source": [
    "2) Plot the number of nodes in the tree as maxDepth is varied (using learner.sz). Plot another\n",
    "line in this plot by increasing either minParent or minLeaf (choose either, and by how much). 5\n",
    "points"
   ]
  },
  {
   "cell_type": "code",
   "execution_count": 30,
   "metadata": {},
   "outputs": [
    {
     "data": {
      "text/plain": [
       "[<matplotlib.lines.Line2D at 0x16a5ed69a48>]"
      ]
     },
     "execution_count": 30,
     "metadata": {},
     "output_type": "execute_result"
    },
    {
     "data": {
      "image/png": "[encoded data removed]",
      "text/plain": [
       "<Figure size 432x288 with 1 Axes>"
      ]
     },
     "metadata": {
      "needs_background": "light"
     },
     "output_type": "display_data"
    }
   ],
   "source": [
    "depth = [1, 2, 5, 7, 10, 20, 50]\n",
    "parents = [1, 2, 5, 7, 10, 20, 50]\n",
    "min_parent2_nodes = []\n",
    "min_parent5_nodes = []\n",
    "for d in depth:\n",
    "    learner1 = ml.dtree.treeClassify(XtS, Yt, minParent = 2, maxDepth=d, minLeaf = 1)\n",
    "    learner2 = ml.dtree.treeClassify(XtS, Yt, minParent = 5, maxDepth=d, minLeaf = 1)\n",
    "    min_parent2_nodes.append(learner1.sz)\n",
    "    min_parent5_nodes.append(learner2.sz)\n",
    "\n",
    "plt.plot(depth, min_parent2_nodes, color = 'r')\n",
    "plt.plot(depth, min_parent5_nodes, color = 'b')"
   ]
  },
  {
   "cell_type": "markdown",
   "metadata": {},
   "source": [
    "3) Set maxDepth to a fixed value, and plot the training and validation performance of the other two\n",
    "hyper-parameters in an appropriate range, using the same 2D plot we used for nearest-neighbors.\n",
    "Show the plots, and recommend a choice for minParent and minLeaf based on these results. \n",
    "\n",
    "I would choose minParent = 10 and minLeaf = 10, as this looks to be the spot with the highest AUC on the validation plot. "
   ]
  },
  {
   "cell_type": "code",
   "execution_count": 18,
   "metadata": {},
   "outputs": [
    {
     "name": "stdout",
     "output_type": "stream",
     "text": [
      "[[0.85532005 0.85162328 0.84635708 0.84075989 0.83665678 0.82929916\n",
      "  0.82139512 0.81337201 0.80328855 0.80013793 0.79699969]\n",
      " [0.85726244 0.85079575 0.84606868 0.84106428 0.83689881 0.82959643\n",
      "  0.82107871 0.81337201 0.80328855 0.80013793 0.79699969]\n",
      " [0.85572463 0.85153739 0.84606956 0.84122815 0.83721338 0.82922364\n",
      "  0.82167905 0.81337201 0.80328855 0.80013793 0.79699969]\n",
      " [0.85296481 0.85091519 0.84606605 0.84147641 0.83665678 0.82959643\n",
      "  0.82123503 0.81337201 0.80328855 0.80013793 0.79699969]\n",
      " [0.84950419 0.84856961 0.8463562  0.84147641 0.83711274 0.82977699\n",
      "  0.8215215  0.81260288 0.80328855 0.80013793 0.79699969]\n",
      " [0.84548292 0.84478441 0.84482419 0.84123702 0.83711274 0.82977699\n",
      "  0.82107871 0.81248687 0.80328855 0.80011079 0.79699969]\n",
      " [0.84229059 0.84237376 0.84212751 0.84147641 0.83680467 0.82950457\n",
      "  0.8215215  0.81337201 0.80328855 0.80011079 0.79699969]\n",
      " [0.84044945 0.84142363 0.84065346 0.84073706 0.83635012 0.82958932\n",
      "  0.82167905 0.81337201 0.80328855 0.80013793 0.79699969]\n",
      " [0.83823552 0.83855536 0.83792147 0.83929761 0.83675654 0.82967635\n",
      "  0.82139512 0.81248687 0.80328855 0.80013793 0.79699969]\n",
      " [0.83749116 0.83683795 0.83545541 0.83789126 0.83575127 0.82939436\n",
      "  0.82107871 0.81260288 0.80328855 0.80011079 0.79699969]\n",
      " [0.83606883 0.83580054 0.83467293 0.83624456 0.83493754 0.82977699\n",
      "  0.82184002 0.81248687 0.80328855 0.80013793 0.79699969]]\n",
      "[[0.60715621 0.60825658 0.607073   0.61150095 0.61072862 0.61288766\n",
      "  0.61426733 0.61606149 0.62041752 0.62406207 0.62264907]\n",
      " [0.60557118 0.60810355 0.60865115 0.61101853 0.61046934 0.61128833\n",
      "  0.61438859 0.61514503 0.61975534 0.62437982 0.62319164]\n",
      " [0.60543228 0.60501997 0.60920351 0.61095309 0.61005653 0.6109855\n",
      "  0.61424872 0.61506063 0.6197672  0.62441753 0.62298433]\n",
      " [0.60733012 0.60815162 0.60736095 0.6117399  0.61085436 0.61219732\n",
      "  0.6147002  0.61509446 0.61962519 0.62423752 0.62284705]\n",
      " [0.6073224  0.60638665 0.60914198 0.61103221 0.61057908 0.61054053\n",
      "  0.6143982  0.61644385 0.61985734 0.624239   0.62287047]\n",
      " [0.60742448 0.60885895 0.60779829 0.61191296 0.61066695 0.61140353\n",
      "  0.61467959 0.61655634 0.62008253 0.62388797 0.62344214]\n",
      " [0.60906606 0.60879203 0.60954185 0.61186252 0.61058611 0.61300403\n",
      "  0.6145681  0.61500163 0.62002426 0.62384406 0.62328873]\n",
      " [0.60972335 0.60729666 0.6105967  0.61045247 0.61104996 0.61168327\n",
      "  0.61499983 0.61554722 0.62050498 0.62393208 0.62326213]\n",
      " [0.60906713 0.60815473 0.61024512 0.61097185 0.61013451 0.61090973\n",
      "  0.61419955 0.61645034 0.62038978 0.62355023 0.62297982]\n",
      " [0.61072225 0.61067569 0.61097423 0.61139309 0.61054835 0.61129923\n",
      "  0.61420799 0.61580448 0.62026605 0.62434722 0.62286132]\n",
      " [0.6093697  0.60924551 0.61183355 0.61283594 0.61019426 0.61119794\n",
      "  0.61325737 0.61645928 0.62045899 0.62401488 0.62298268]]\n"
     ]
    },
    {
     "data": {
      "image/png": "[encoded data removed]",
      "text/plain": [
       "<Figure size 576x360 with 2 Axes>"
      ]
     },
     "metadata": {
      "needs_background": "light"
     },
     "output_type": "display_data"
    },
    {
     "data": {
      "image/png": "[encoded data removed]",
      "text/plain": [
       "<Figure size 576x360 with 2 Axes>"
      ]
     },
     "metadata": {
      "needs_background": "light"
     },
     "output_type": "display_data"
    }
   ],
   "source": [
    "max_depth = 10\n",
    "min_parent = range(1,22,2) # Or something else\n",
    "min_leaf = range(1,22,2) # Or something else\n",
    "tr_auc = np.zeros((len(min_parent),len(min_leaf)))\n",
    "va_auc = np.zeros((len(min_parent),len(min_leaf)))\n",
    "for i,k in enumerate(min_parent):\n",
    "    for j, a in enumerate(min_leaf):\n",
    "        learner = ml.dtree.treeClassify(XtS, Yt, minParent = k, maxDepth=max_depth, minLeaf = a)\n",
    "        tr_auc[i][j] = learner.auc(XtS, Yt)\n",
    "        va_auc[i][j] = learner.auc(XvS, Yva)\n",
    "# Now plot it\n",
    "print(tr_auc)\n",
    "print(va_auc)\n",
    "f, ax = plt.subplots(1, 1, figsize=(8, 5))\n",
    "cax = ax.matshow((tr_auc), interpolation='none')\n",
    "f.colorbar(cax)\n",
    "ax.set_xticklabels(['']+list(min_leaf))\n",
    "ax.set_yticklabels(['']+list(min_parent))\n",
    "plt.show()\n",
    "\n",
    "f, ax = plt.subplots(1, 1, figsize=(8, 5))\n",
    "cax = ax.matshow((va_auc), interpolation='none')\n",
    "f.colorbar(cax)\n",
    "ax.set_xticklabels(['']+list(min_leaf))\n",
    "ax.set_yticklabels(['']+list(min_parent))\n",
    "plt.show()\n"
   ]
  },
  {
   "cell_type": "markdown",
   "metadata": {},
   "source": [
    "**Neural Networks + Conclusion**\n",
    "Last we will explore the use of neural networks for the same Kaggle dataset. The neural networks contain\n",
    "many possible hyper-parameters, such as the number of layers, the number of hidden nodes in each layer, the\n",
    "activation function the hidden units, etc. These don’t even take into account the different hyper-parameters\n",
    "of the optimization algorithm."
   ]
  },
  {
   "cell_type": "code",
   "execution_count": 10,
   "metadata": {},
   "outputs": [
    {
     "data": {
      "text/plain": [
       "2"
      ]
     },
     "execution_count": 10,
     "metadata": {},
     "output_type": "execute_result"
    }
   ],
   "source": [
    "nn = ml.nnet.nnetClassify()\n",
    "#1 hidden layer size 5 \n",
    "#2 nodes output \n",
    "nn.init_weights([XtS.shape[1], 5, 2], 'random', XtS, Yt) # as many layers nodes you want\n",
    "nn.train(XtS, Yt, stopTol=1e-8, stepsize=.25, stopIter=300)\n",
    "nn.auc(XtS, Yt)"
   ]
  },
  {
   "cell_type": "code",
   "execution_count": 11,
   "metadata": {},
   "outputs": [
    {
     "name": "stdout",
     "output_type": "stream",
     "text": [
      "0.6696555924677678\n"
     ]
    }
   ],
   "source": [
    "print(nn.auc(XtS, Yt))"
   ]
  },
  {
   "cell_type": "markdown",
   "metadata": {},
   "source": [
    "1) Vary the number of hidden layers and the nodes in each layer (we will assume each layer has the\n",
    "same number of nodes), and compute the training and validation performance. Show 2D plots, like\n",
    "for decision trees and K-NN classifiers, and recommend a network size based on the above. 10 points\n",
    "\n",
    "I would recommend 2 hidden layers, each size 9. "
   ]
  },
  {
   "cell_type": "code",
   "execution_count": 58,
   "metadata": {},
   "outputs": [
    {
     "name": "stdout",
     "output_type": "stream",
     "text": [
      "1 2\n",
      "1 3\n",
      "1 5\n",
      "1 7\n",
      "1 9\n",
      "1 11\n",
      "1 13\n",
      "2 2\n",
      "2 3\n",
      "2 5\n",
      "2 7\n",
      "2 9\n",
      "2 11\n",
      "2 13\n",
      "3 2\n",
      "3 3\n",
      "3 5\n",
      "3 7\n",
      "3 9\n",
      "3 11\n",
      "3 13\n",
      "4 2\n",
      "4 3\n",
      "4 5\n",
      "4 7\n",
      "4 9\n",
      "4 11\n",
      "4 13\n",
      "[[0.65757125 0.67473953 0.684525   0.68732262 0.69297015 0.69651597\n",
      "  0.69460296]\n",
      " [0.60275387 0.55620426 0.68257135 0.68523258 0.69773519 0.697052\n",
      "  0.69490136]\n",
      " [0.42925891 0.52627595 0.46947648 0.41621851 0.50174341 0.58956594\n",
      "  0.51381211]\n",
      " [0.46056704 0.49269528 0.42183247 0.56195788 0.48181346 0.46231716\n",
      "  0.56691232]]\n",
      "[[0.6470385  0.65400062 0.65567318 0.65950222 0.66041346 0.6611152\n",
      "  0.66135629]\n",
      " [0.60406202 0.56861217 0.66478493 0.66439023 0.66810677 0.66757607\n",
      "  0.66745258]\n",
      " [0.42108541 0.5279846  0.48114912 0.41459074 0.52110479 0.59106625\n",
      "  0.50368403]\n",
      " [0.47731062 0.50684788 0.41105596 0.55825037 0.48613551 0.47636302\n",
      "  0.57082712]]\n"
     ]
    },
    {
     "data": {
      "image/png": "[encoded data removed]",
      "text/plain": [
       "<Figure size 576x360 with 2 Axes>"
      ]
     },
     "metadata": {
      "needs_background": "light"
     },
     "output_type": "display_data"
    },
    {
     "data": {
      "image/png": "[encoded data removed]",
      "text/plain": [
       "<Figure size 576x360 with 2 Axes>"
      ]
     },
     "metadata": {
      "needs_background": "light"
     },
     "output_type": "display_data"
    }
   ],
   "source": [
    "num_hidden_layers = [1, 2, 3, 4]\n",
    "size_hidden_layers = [2, 3, 5, 7, 9, 11, 13]\n",
    "tr_auc = np.zeros((len(num_hidden_layers),len(size_hidden_layers)))\n",
    "va_auc = np.zeros((len(num_hidden_layers),len(size_hidden_layers)))\n",
    "for i, k in enumerate(num_hidden_layers):\n",
    "    for j, a in enumerate(size_hidden_layers):\n",
    "        print(k,a)\n",
    "        weight_array = []\n",
    "        weight_array.append(XtS.shape[1])\n",
    "        for n in range(k):\n",
    "            weight_array.append(a)\n",
    "        weight_array.append(2)\n",
    "        nn = ml.nnet.nnetClassify()\n",
    "        nn.init_weights(weight_array, 'random', XtS, Yt)\n",
    "        nn.train(XtS, Yt, stopTol=1e-8, stepsize=.25, stopIter=300)\n",
    "        tr_auc[i][j] = nn.auc(XtS, Yt)\n",
    "        va_auc[i][j] = nn.auc(XvS, Yva)\n",
    "        \n",
    "print(tr_auc)\n",
    "print(va_auc)\n",
    "f, ax = plt.subplots(1, 1, figsize=(8, 5))\n",
    "cax = ax.matshow((tr_auc), interpolation='none')\n",
    "f.colorbar(cax)\n",
    "ax.set_xticklabels(['']+size_hidden_layers)\n",
    "ax.set_yticklabels(['']+num_hidden_layers)\n",
    "plt.show()\n",
    "\n",
    "f, ax = plt.subplots(1, 1, figsize=(8, 5))\n",
    "cax = ax.matshow((va_auc), interpolation='none')\n",
    "f.colorbar(cax)\n",
    "ax.set_xticklabels(['']+size_hidden_layers)\n",
    "ax.set_yticklabels(['']+num_hidden_layers)\n",
    "plt.show()"
   ]
  },
  {
   "cell_type": "code",
   "execution_count": 59,
   "metadata": {},
   "outputs": [
    {
     "name": "stdout",
     "output_type": "stream",
     "text": [
      "[[0.6470385  0.65400062 0.65567318 0.65950222 0.66041346 0.6611152\n",
      "  0.66135629]\n",
      " [0.60406202 0.56861217 0.66478493 0.66439023 0.66810677 0.66757607\n",
      "  0.66745258]\n",
      " [0.42108541 0.5279846  0.48114912 0.41459074 0.52110479 0.59106625\n",
      "  0.50368403]\n",
      " [0.47731062 0.50684788 0.41105596 0.55825037 0.48613551 0.47636302\n",
      "  0.57082712]]\n"
     ]
    }
   ],
   "source": [
    "print(va_auc)"
   ]
  },
  {
   "cell_type": "markdown",
   "metadata": {},
   "source": [
    "2)  Implement a new activation function of your choosing\n",
    "\n",
    "I am using the \"Swish\" activation function, which is bx $\\cdot$ sigmoid(x), where b = 1 here. At least for 1 hidden layer of size 9, Swish didn't perform as well as logistic nor htangent, but it was pretty close to logistic for the choice of hyperparameters I used.  "
   ]
  },
  {
   "cell_type": "code",
   "execution_count": 60,
   "metadata": {},
   "outputs": [
    {
     "name": "stdout",
     "output_type": "stream",
     "text": [
      "custom\n",
      "Train AUC: 0.6552702601473875\n",
      "Val AUC: 0.648751646845056\n",
      "logistic\n",
      "Train AUC: 0.6542975872128357\n",
      "Val AUC: 0.64814916255825\n",
      "htangent\n",
      "Train AUC: 0.696863489757209\n",
      "Val AUC: 0.6667243067317739\n"
     ]
    }
   ],
   "source": [
    "\n",
    "nn = ml.nnet.nnetClassify()\n",
    "def sig(z): \n",
    "    return np.atleast_2d(z/(z+np.exp(-z)))\n",
    "def dsig(z):\n",
    "    return np.atleast_2d(z/(z+np.exp(-z)) + (1 / (1 + np.exp(-z)))*(1-z/(z+np.exp(-z))))\n",
    "\n",
    "activation_f = ['custom', 'logistic', 'htangent']\n",
    "train_auc = []\n",
    "val_auc = []\n",
    "for f in activation_f:\n",
    "    print(f)\n",
    "    nn = ml.nnet.nnetClassify()\n",
    "    nn.init_weights([XtS.shape[1], 9, 9, 2], 'random', XtS, Yt)\n",
    "    nn.setActivation(f, sig, dsig)\n",
    "    nn.train(XtS, Yt, stopTol=1e-8, stepsize=.25, stopIter=300)\n",
    "    train_auc = nn.auc(XtS, Yt)\n",
    "    val_auc = nn.auc(XvS, Yva)\n",
    "    print(\"Train AUC:\", train_auc)\n",
    "    print(\"Val AUC:\", val_auc)\n"
   ]
  },
  {
   "cell_type": "markdown",
   "metadata": {},
   "source": [
    "Pick the classifier that you think will perform best, mention all of its hyper-parameter values, and\n",
    "explain the reason for your choice. Train it on as much data as you can, preferably all of X, submit\n",
    "the predictions on Xtest to Kaggle, and include your Kaggle username and leaderboard AUC in the\n",
    "report.\n",
    "\n",
    "I would pick the neural net with the htangent and two hidden layers of size 9 because it has the highest validation AUC score that I've seen so far (.6667). \n",
    "\n",
    "On Kaggle my AUC score is .664. "
   ]
  },
  {
   "cell_type": "code",
   "execution_count": 64,
   "metadata": {},
   "outputs": [],
   "source": [
    "Xte = np.genfromtxt('X_test.txt', delimiter=None)\n",
    "XtS_final, params = ml.rescale(Xtr)\n",
    "XteS, params_test = ml.rescale(Xte) \n",
    "\n"
   ]
  },
  {
   "cell_type": "code",
   "execution_count": 65,
   "metadata": {},
   "outputs": [
    {
     "name": "stdout",
     "output_type": "stream",
     "text": [
      "(200000, 14)\n"
     ]
    }
   ],
   "source": [
    "print(XteS.shape)"
   ]
  },
  {
   "cell_type": "code",
   "execution_count": 68,
   "metadata": {},
   "outputs": [],
   "source": [
    "learner = ml.nnet.nnetClassify()\n",
    "learner.init_weights([XtS.shape[1], 9, 9, 2], 'random', XtS, Yt)\n",
    "learner.setActivation('htangent', sig, dsig)\n",
    "learner.train(XtS, Yt, stopTol=1e-8, stepsize=.25, stopIter=300)\n",
    "Yte = np.vstack((np.arange(XteS.shape[0]), learner.predictSoft(XteS)[:,1])).T\n",
    "\n",
    "np.savetxt('Y_submit.txt', Yte, '%d, %.2f', header='ID,Prob1', comments='',\n",
    "delimiter=',')"
   ]
  },
  {
   "cell_type": "markdown",
   "metadata": {},
   "source": [
    "**Collaboration statement**\n",
    "I worked alone. "
   ]
  },
  {
   "cell_type": "code",
   "execution_count": null,
   "metadata": {},
   "outputs": [],
   "source": []
  }
 ],
 "metadata": {
  "kernelspec": {
   "display_name": "Python 3",
   "language": "python",
   "name": "python3"
  },
  "language_info": {
   "codemirror_mode": {
    "name": "ipython",
    "version": 3
   },
   "file_extension": ".py",
   "mimetype": "text/x-python",
   "name": "python",
   "nbconvert_exporter": "python",
   "pygments_lexer": "ipython3",
   "version": "3.7.4"
  }
 },
 "nbformat": 4,
 "nbformat_minor": 4
}
