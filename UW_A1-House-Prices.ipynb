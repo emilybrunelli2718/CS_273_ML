{
 "cells": [
  {
   "cell_type": "markdown",
   "metadata": {},
   "source": [
    "# Assignment 1 House Prices\n",
    "\n",
    "### Due: Tuesday, July 2nd, 11:59 pm on Gradescope.\n",
    "\n",
    "In this assignment we'll practice working with `pandas` `DataFrames` and train a linear regression model to predict house prices.\n",
    "\n",
    "Fill in the cells provided marked `TODO` with code to answer the questions. **Unless otherwise noted, every answer you submit should have code that clearly shows the answer in output.** Answers submitted that do not have associated code that shows the answer may not be accepted for credit. It is generally a good idea to restart the kernel and run all cells (especially before turning it in) to make sure your code runs correctly.\n",
    "\n",
    "Answer the questions on Gradescope and make sure to download this file once you've finished the assignment and upload it to Canvas as well.\n",
    "\n",
    "> Copyright ©2019 Emily Fox and Hunter Schafer.  All rights reserved.  Permission is hereby granted to students registered for University of Washington CSE/STAT 416 for use solely during Summer Quarter 2019 for purposes of the course.  No other use, copying, distribution, or modification is permitted without prior written consent. Copyrights for third-party components of this work must be honored.  Instructors interested in reusing these course materials should contact the author."
   ]
  },
  {
   "cell_type": "code",
   "execution_count": 2,
   "metadata": {},
   "outputs": [],
   "source": [
    "# Conventionally people rename the pandas import to pd for brevity\n",
    "import pandas as pd"
   ]
  },
  {
   "cell_type": "code",
   "execution_count": 20,
   "metadata": {},
   "outputs": [
    {
     "data": {
      "text/html": [
       "<div>\n",
       "<style scoped>\n",
       "    .dataframe tbody tr th:only-of-type {\n",
       "        vertical-align: middle;\n",
       "    }\n",
       "\n",
       "    .dataframe tbody tr th {\n",
       "        vertical-align: top;\n",
       "    }\n",
       "\n",
       "    .dataframe thead th {\n",
       "        text-align: right;\n",
       "    }\n",
       "</style>\n",
       "<table border=\"1\" class=\"dataframe\">\n",
       "  <thead>\n",
       "    <tr style=\"text-align: right;\">\n",
       "      <th></th>\n",
       "      <th>id</th>\n",
       "      <th>date</th>\n",
       "      <th>price</th>\n",
       "      <th>bedrooms</th>\n",
       "      <th>bathrooms</th>\n",
       "      <th>sqft_living</th>\n",
       "      <th>sqft_lot</th>\n",
       "      <th>floors</th>\n",
       "      <th>waterfront</th>\n",
       "      <th>view</th>\n",
       "      <th>...</th>\n",
       "      <th>grade</th>\n",
       "      <th>sqft_above</th>\n",
       "      <th>sqft_basement</th>\n",
       "      <th>yr_built</th>\n",
       "      <th>yr_renovated</th>\n",
       "      <th>zipcode</th>\n",
       "      <th>lat</th>\n",
       "      <th>long</th>\n",
       "      <th>sqft_living15</th>\n",
       "      <th>sqft_lot15</th>\n",
       "    </tr>\n",
       "  </thead>\n",
       "  <tbody>\n",
       "    <tr>\n",
       "      <th>0</th>\n",
       "      <td>7129300520</td>\n",
       "      <td>20141013T000000</td>\n",
       "      <td>221900</td>\n",
       "      <td>3</td>\n",
       "      <td>1.00</td>\n",
       "      <td>1180</td>\n",
       "      <td>5650</td>\n",
       "      <td>1.0</td>\n",
       "      <td>0</td>\n",
       "      <td>0</td>\n",
       "      <td>...</td>\n",
       "      <td>7</td>\n",
       "      <td>1180</td>\n",
       "      <td>0</td>\n",
       "      <td>1955</td>\n",
       "      <td>0</td>\n",
       "      <td>98178</td>\n",
       "      <td>47.5112</td>\n",
       "      <td>-122.257</td>\n",
       "      <td>1340</td>\n",
       "      <td>5650</td>\n",
       "    </tr>\n",
       "    <tr>\n",
       "      <th>1</th>\n",
       "      <td>6414100192</td>\n",
       "      <td>20141209T000000</td>\n",
       "      <td>538000</td>\n",
       "      <td>3</td>\n",
       "      <td>2.25</td>\n",
       "      <td>2570</td>\n",
       "      <td>7242</td>\n",
       "      <td>2.0</td>\n",
       "      <td>0</td>\n",
       "      <td>0</td>\n",
       "      <td>...</td>\n",
       "      <td>7</td>\n",
       "      <td>2170</td>\n",
       "      <td>400</td>\n",
       "      <td>1951</td>\n",
       "      <td>1991</td>\n",
       "      <td>98125</td>\n",
       "      <td>47.7210</td>\n",
       "      <td>-122.319</td>\n",
       "      <td>1690</td>\n",
       "      <td>7639</td>\n",
       "    </tr>\n",
       "    <tr>\n",
       "      <th>2</th>\n",
       "      <td>5631500400</td>\n",
       "      <td>20150225T000000</td>\n",
       "      <td>180000</td>\n",
       "      <td>2</td>\n",
       "      <td>1.00</td>\n",
       "      <td>770</td>\n",
       "      <td>10000</td>\n",
       "      <td>1.0</td>\n",
       "      <td>0</td>\n",
       "      <td>0</td>\n",
       "      <td>...</td>\n",
       "      <td>6</td>\n",
       "      <td>770</td>\n",
       "      <td>0</td>\n",
       "      <td>1933</td>\n",
       "      <td>0</td>\n",
       "      <td>98028</td>\n",
       "      <td>47.7379</td>\n",
       "      <td>-122.233</td>\n",
       "      <td>2720</td>\n",
       "      <td>8062</td>\n",
       "    </tr>\n",
       "    <tr>\n",
       "      <th>3</th>\n",
       "      <td>2487200875</td>\n",
       "      <td>20141209T000000</td>\n",
       "      <td>604000</td>\n",
       "      <td>4</td>\n",
       "      <td>3.00</td>\n",
       "      <td>1960</td>\n",
       "      <td>5000</td>\n",
       "      <td>1.0</td>\n",
       "      <td>0</td>\n",
       "      <td>0</td>\n",
       "      <td>...</td>\n",
       "      <td>7</td>\n",
       "      <td>1050</td>\n",
       "      <td>910</td>\n",
       "      <td>1965</td>\n",
       "      <td>0</td>\n",
       "      <td>98136</td>\n",
       "      <td>47.5208</td>\n",
       "      <td>-122.393</td>\n",
       "      <td>1360</td>\n",
       "      <td>5000</td>\n",
       "    </tr>\n",
       "    <tr>\n",
       "      <th>4</th>\n",
       "      <td>1954400510</td>\n",
       "      <td>20150218T000000</td>\n",
       "      <td>510000</td>\n",
       "      <td>3</td>\n",
       "      <td>2.00</td>\n",
       "      <td>1680</td>\n",
       "      <td>8080</td>\n",
       "      <td>1.0</td>\n",
       "      <td>0</td>\n",
       "      <td>0</td>\n",
       "      <td>...</td>\n",
       "      <td>8</td>\n",
       "      <td>1680</td>\n",
       "      <td>0</td>\n",
       "      <td>1987</td>\n",
       "      <td>0</td>\n",
       "      <td>98074</td>\n",
       "      <td>47.6168</td>\n",
       "      <td>-122.045</td>\n",
       "      <td>1800</td>\n",
       "      <td>7503</td>\n",
       "    </tr>\n",
       "  </tbody>\n",
       "</table>\n",
       "<p>5 rows × 21 columns</p>\n",
       "</div>"
      ],
      "text/plain": [
       "           id             date   price  bedrooms  bathrooms  sqft_living  \\\n",
       "0  7129300520  20141013T000000  221900         3       1.00         1180   \n",
       "1  6414100192  20141209T000000  538000         3       2.25         2570   \n",
       "2  5631500400  20150225T000000  180000         2       1.00          770   \n",
       "3  2487200875  20141209T000000  604000         4       3.00         1960   \n",
       "4  1954400510  20150218T000000  510000         3       2.00         1680   \n",
       "\n",
       "   sqft_lot  floors  waterfront  view     ...      grade  sqft_above  \\\n",
       "0      5650     1.0           0     0     ...          7        1180   \n",
       "1      7242     2.0           0     0     ...          7        2170   \n",
       "2     10000     1.0           0     0     ...          6         770   \n",
       "3      5000     1.0           0     0     ...          7        1050   \n",
       "4      8080     1.0           0     0     ...          8        1680   \n",
       "\n",
       "   sqft_basement  yr_built  yr_renovated  zipcode      lat     long  \\\n",
       "0              0      1955             0    98178  47.5112 -122.257   \n",
       "1            400      1951          1991    98125  47.7210 -122.319   \n",
       "2              0      1933             0    98028  47.7379 -122.233   \n",
       "3            910      1965             0    98136  47.5208 -122.393   \n",
       "4              0      1987             0    98074  47.6168 -122.045   \n",
       "\n",
       "   sqft_living15  sqft_lot15  \n",
       "0           1340        5650  \n",
       "1           1690        7639  \n",
       "2           2720        8062  \n",
       "3           1360        5000  \n",
       "4           1800        7503  \n",
       "\n",
       "[5 rows x 21 columns]"
      ]
     },
     "execution_count": 20,
     "metadata": {},
     "output_type": "execute_result"
    }
   ],
   "source": [
    "sales = pd.read_csv('home_data.csv') \n",
    "sales.head()"
   ]
  },
  {
   "cell_type": "markdown",
   "metadata": {},
   "source": [
    "---\n",
    "### Q1) Exploring the data.\n",
    "This question asks you to explore the dataset we will be using. Answer these three questions\n",
    "\n",
    "* How many houses do we have in our data set? This should correspond to the number of rows in the dataset.\n",
    "* Which column are we trying to predict given the other features (i.e. what's our output `y`)? \n",
    "* How many inputs do we have in total in the data set (i.e. what is the size of our input `x`)?\n",
    "\n",
    "You do not need to write code to answer the second bullet, but the others should be answered in the cells below. \n",
    "\n",
    "*Hint:* You can use `len()` to get the length of anything in python. Note that when you use it on a DataFrame, it will give you the number of rows, not columns.\n",
    "\n",
    "<div class=\"alert alert-block alert-success\">\n",
    "<b>Options:</b> Enter one of these options on Gradescope.\n",
    "<ul>\n",
    "    <li>21613 houses, price, 20</li>\n",
    "    <li>21613 houses, bedrooms, 21</li>\n",
    "    <li>22014 houses, price, 21</li>\n",
    "    <li>22014 houses, bedrooms, 20</li>\n",
    "    <li>21613 houses, price, 21</li>\n",
    "</ul>\n",
    "</div>\n"
   ]
  },
  {
   "cell_type": "code",
   "execution_count": 10,
   "metadata": {},
   "outputs": [
    {
     "data": {
      "text/plain": [
       "(21613, 21)"
      ]
     },
     "execution_count": 10,
     "metadata": {},
     "output_type": "execute_result"
    }
   ],
   "source": [
    "# TODO: How many houses are there?\n",
    "sales.shape\n",
    "#21613 houses"
   ]
  },
  {
   "cell_type": "code",
   "execution_count": 9,
   "metadata": {},
   "outputs": [
    {
     "data": {
      "text/plain": [
       "(21613, 21)"
      ]
     },
     "execution_count": 9,
     "metadata": {},
     "output_type": "execute_result"
    }
   ],
   "source": [
    "# TODO: How many inputs are there?\n",
    "#21 inputs\n",
    "#Predicting price"
   ]
  },
  {
   "cell_type": "markdown",
   "metadata": {},
   "source": [
    "---\n",
    "### Q2) What is the average price of houses with 3 bedrooms?\n",
    "**To solve this problem, you should write code that prints out the average price for every number of bedrooms**, but we only want you to report the number for 3 bedrooms in Gradescope. \n",
    "\n",
    "To do this, you will want to do the following steps\n",
    "* Find the maximum number of bedrooms in the dataset\n",
    "* Make a loop that goes from 0 to that number\n",
    "* For each number of bedrooms, compute the average price of the houses with that number of bedrooms. Print out both the number of bedrooms and the average price of houses with that number of bedrooms.\n",
    "\n",
    "It's expected there will be some number of bedrooms between 0 and the max that don't have any houses. If you have `pandas` compute the mean, it will return the value `nan` which means \"Not a Number\". You don't have to handle this case specially, printing `nan` is fine. Additionally, there may be some data entry errors from the original dataset so you might see some results that look a bit odd (this is expected and happens ALL the time with real-world datasets).\n",
    "\n",
    "<div class=\"alert alert-block alert-success\">\n",
    "<b>Options:</b> Enter one of these options on Gradescope.\n",
    "<ul>\n",
    "    <li><code>nan</code></li>\n",
    "    <li>401,372</li>\n",
    "    <li>466,232</li>\n",
    "    <li>635,419</li>\n",
    "    <li>786,599</li>\n",
    "</ul>\n",
    "</div>"
   ]
  },
  {
   "cell_type": "code",
   "execution_count": 28,
   "metadata": {},
   "outputs": [
    {
     "name": "stdout",
     "output_type": "stream",
     "text": [
      "           Price\n",
      "0   4.095037e+05\n",
      "1   3.176429e+05\n",
      "2   4.013727e+05\n",
      "3   4.662321e+05\n",
      "4   6.354195e+05\n",
      "5   7.865998e+05\n",
      "6   8.255206e+05\n",
      "7   9.511847e+05\n",
      "8   1.105077e+06\n",
      "9   8.939998e+05\n",
      "10  8.193333e+05\n",
      "11  5.200000e+05\n",
      "12           NaN\n",
      "13           NaN\n",
      "14           NaN\n",
      "15           NaN\n",
      "16           NaN\n",
      "17           NaN\n",
      "18           NaN\n",
      "19           NaN\n",
      "20           NaN\n",
      "21           NaN\n",
      "22           NaN\n",
      "23           NaN\n",
      "24           NaN\n",
      "25           NaN\n",
      "26           NaN\n",
      "27           NaN\n",
      "28           NaN\n",
      "29           NaN\n",
      "30           NaN\n",
      "31           NaN\n",
      "32           NaN\n",
      "33  6.400000e+05\n"
     ]
    }
   ],
   "source": [
    "# TODO: Write code to print out all the average prices for each number of bedrooms\n",
    "df = pd.DataFrame(columns=['Price'])\n",
    "maxBedrooms = sales['bedrooms'].max()\n",
    "minBedrooms = sales['bedrooms'].min()\n",
    "for i in range(minBedrooms, maxBedrooms + 1):\n",
    "    currentSales = sales[sales['bedrooms'] == i]\n",
    "    averagePrice = currentSales['price'].mean()\n",
    "    df.loc[i] = averagePrice\n",
    "\n",
    "print(df)"
   ]
  },
  {
   "cell_type": "markdown",
   "metadata": {},
   "source": [
    "---\n",
    "### Q3) What fraction of the properties are have `sqft_living` between 2000-4000?\n",
    "<div class=\"alert alert-block alert-success\">\n",
    "<b>Options:</b> Enter one of these options on Gradescope.\n",
    "<ul>\n",
    "    <li>0.2 - 0.3</li>\n",
    "    <li>0.3 - 0.4</li>\n",
    "    <li>0.4 - 0.5</li>\n",
    "    <li>0.5 - 0.6</li>\n",
    "    <li>0.6 - 0.7</li>\n",
    "</ul>\n",
    "</div>\n",
    " "
   ]
  },
  {
   "cell_type": "code",
   "execution_count": 30,
   "metadata": {},
   "outputs": [
    {
     "name": "stdout",
     "output_type": "stream",
     "text": [
      "0.4266413732475825\n"
     ]
    }
   ],
   "source": [
    "# TODO\n",
    "sqftLiving = sales[(sales['sqft_living'] >= 2000) & (sales['sqft_living'] <= 4000)]\n",
    "print(len(sqftLiving) / len(sales))"
   ]
  },
  {
   "cell_type": "markdown",
   "metadata": {},
   "source": [
    "---\n",
    "## Training a Linear Regression Model.\n",
    "\n",
    "We will now train a linear regression model to make useful predictions. Work through the steps below and then answer the following questions. Even though a lot of the code is pre-written, you should understand what it is doing! You may be asked to write some of this code on future assignments.\n",
    "\n",
    "First we split the data into a training set and a test set."
   ]
  },
  {
   "cell_type": "code",
   "execution_count": 39,
   "metadata": {},
   "outputs": [],
   "source": [
    "from sklearn.model_selection import train_test_split \n",
    "from sklearn.linear_model import LinearRegression\n",
    "train_data, test_data = train_test_split(sales, test_size = 0.2, random_state=0)  # random_state makes everything deterministic"
   ]
  },
  {
   "cell_type": "markdown",
   "metadata": {},
   "source": [
    "Lets plot some of the data to get a sense of what we are dealing with"
   ]
  },
  {
   "cell_type": "code",
   "execution_count": 40,
   "metadata": {},
   "outputs": [
    {
     "data": {
      "text/plain": [
       "Text(0,0.5,'Price')"
      ]
     },
     "execution_count": 40,
     "metadata": {},
     "output_type": "execute_result"
    },
    {
     "data": {
      "image/png": "[encoded data removed]",
      "text/plain": [
       "<Figure size 432x288 with 1 Axes>"
      ]
     },
     "metadata": {},
     "output_type": "display_data"
    }
   ],
   "source": [
    "%matplotlib inline\n",
    "import matplotlib.pyplot as plt\n",
    "\n",
    "# plot primarily takes \n",
    "#plt.scatter(sales['sqft_living'], sales['price'], marker='.')\n",
    "plt.scatter(train_data['sqft_living'], train_data['price'], marker='+', label='Train')\n",
    "plt.scatter(test_data['sqft_living'], test_data['price'], marker='.', label='Test')\n",
    "\n",
    "# Code to customize the axis labels\n",
    "plt.legend()\n",
    "plt.xlabel('Sqft Living')\n",
    "plt.ylabel('Price')"
   ]
  },
  {
   "cell_type": "markdown",
   "metadata": {},
   "source": [
    "For this problem, we will look at using two sets of features derived from the data inputs. The basic set of features only contains a few data inputs while the advanced features contain them and more."
   ]
  },
  {
   "cell_type": "code",
   "execution_count": 41,
   "metadata": {},
   "outputs": [],
   "source": [
    "basic_features = ['bedrooms', 'bathrooms', 'sqft_living', 'sqft_lot', 'floors', 'zipcode']"
   ]
  },
  {
   "cell_type": "code",
   "execution_count": 46,
   "metadata": {},
   "outputs": [],
   "source": [
    "advanced_features = basic_features + [\n",
    "    'condition',      # condition of the house\n",
    "    'grade',          # measure of qality of construction\n",
    "    'waterfront',     # waterfront property \n",
    "    'view',           # type of view\n",
    "    'sqft_above',     # square feet above ground\n",
    "    'sqft_basement',  # square feet in basementab\n",
    "    'yr_built',       # the year built\n",
    "    'yr_renovated',   # the year renovated\n",
    "    'lat',            # the longitude of the parcel\n",
    "    'long',           # the latitide of the parcel\n",
    "    'sqft_living15',  # average sq.ft. of 15 nearest neighbors \n",
    "    'sqft_lot15',     # average lot size of 15 nearest neighbors \n",
    "]"
   ]
  },
  {
   "cell_type": "markdown",
   "metadata": {},
   "source": [
    "---\n",
    "<div class=\"alert alert-block alert-info\">\n",
    "    <b>Note:</b> You have to do something for this section for the model training, but there is no answer to submit on Gradescope!\n",
    "</div>\n",
    "\n",
    "In the following cell, you should train two linear regression models\n",
    "* The first should be saved in a variable called `basic_model` that only uses the basic features\n",
    "* The seconod should be saved in a variable called `advanced_model` that uses the advanced features\n",
    "\n",
    "Look at the [fit()](https://scikit-learn.org/stable/modules/generated/sklearn.linear_model.LinearRegression.html) function in the API documentation to figure out how to use it. You will also need to import the `LinearRegression` class.\n",
    "\n",
    "Notice that our goal is to eventually make a prediction of how the model will do in the future. You should keep this in mind when deciding which datasets to use where."
   ]
  },
  {
   "cell_type": "code",
   "execution_count": 93,
   "metadata": {},
   "outputs": [
    {
     "name": "stdout",
     "output_type": "stream",
     "text": [
      "[-5.66006330e+04  1.10870936e+04  3.20408369e+02 -2.89499140e-01\n",
      " -2.41800491e+03  6.17971071e+02]\n",
      "[-3.46742831e+04  3.94310007e+04  1.12610340e+02  1.75888737e-01\n",
      "  7.42456845e+03 -5.67468805e+02  2.61695183e+04  9.35901502e+04\n",
      "  6.05600529e+05  5.27368893e+04  7.27875901e+01  3.98227501e+01\n",
      " -2.60713698e+03  2.01053038e+01  6.04865961e+05 -2.22392029e+05\n",
      "  2.42333853e+01 -4.67450072e-01]\n",
      "[-5.66006330e+04  1.10870936e+04  3.20408369e+02 -2.89499140e-01\n",
      " -2.41800491e+03  6.17971071e+02]\n"
     ]
    }
   ],
   "source": [
    "# TODO: Write your code here to train the two models\n",
    "\n",
    "X1 = train_data[basic_features]\n",
    "Y = train_data['price']\n",
    "basic_model = LinearRegression().fit(X1, Y)\n",
    "print(basic_model.coef_)\n",
    "\n",
    "X2 = train_data[advanced_features]\n",
    "advanced_model = LinearRegression().fit(X2, Y)\n",
    "print(advanced_model.coef_)\n"
   ]
  },
  {
   "cell_type": "markdown",
   "metadata": {},
   "source": [
    "Now, we will evaluate the models' predictions to see how they perform.\n",
    "\n",
    "---\n",
    "### Q4) What are your Root Mean Squared Errors (RMSE) on your training data using the basic model and then the advanced model?\n",
    "Use the models you trained in last section to predict what it thinks the values for the data points should be. You can look at the documentation from the `LinearRegression` model to see how to make predictions. \n",
    "\n",
    "The RMSE is another commonly reported metric used for regression models. The RMSE is similar to RSS but is modified slightly to scale the number down. The RMSE is defined as $$RMSE = \\sqrt{\\frac{1}{n}RSS}$$\n",
    "\n",
    "where the thing inside the square root is refered to as the Mean Square Error (MSE). You will also need to use the `mean_squared_error` function from sklearn (documentation [here](https://scikit-learn.org/stable/modules/generated/sklearn.metrics.mean_squared_error.html#sklearn.metrics.mean_squared_error)) which you'll have to import as well. \n",
    "\n",
    "**Remember, we want you to report the square root of the MSE numbers**. \n",
    "<div class=\"alert alert-block alert-success\">\n",
    "<b>Options:</b> Enter one of these options on Gradescope.\n",
    "<ul>\n",
    "    <li>Train: ~4,090,457, Test: ~4,378,167</li>\n",
    "    <li>Train: ~258,527, Test: ~203,805</li>\n",
    "    <li>Train: ~3,157,653, Test: ~3,159,982</li>\n",
    "    <li>Train: ~244,005, Test: ~190,473</li>\n",
    "</ul>\n",
    "</div>"
   ]
  },
  {
   "cell_type": "code",
   "execution_count": 101,
   "metadata": {},
   "outputs": [
    {
     "name": "stdout",
     "output_type": "stream",
     "text": [
      "258524.68484833534\n",
      "203805.41055524032\n"
     ]
    }
   ],
   "source": [
    "# Write your code here\n",
    "from sklearn.metrics import mean_squared_error\n",
    "import math\n",
    "#ONLY FOR TRAINING DATA\n",
    "basicErrorTrain = mean_squared_error(train_data['price'], basic_model.predict(train_data[basic_features]))\n",
    "print(math.sqrt(basicErrorTrain))\n",
    "advancedErrorTrain = mean_squared_error(train_data['price'], advanced_model.predict(train_data[advanced_features]))\n",
    "print(math.sqrt(advancedErrorTrain))"
   ]
  },
  {
   "cell_type": "markdown",
   "metadata": {},
   "source": [
    "---\n",
    "### Q5) What are your RMSE errors on your test data using the basic model and then the advanced model?\n",
    "<div class=\"alert alert-block alert-success\">\n",
    "<b>Options:</b> Enter one of these options on Gradescope.\n",
    "<ul>\n",
    "    <li>Train: ~4,090,457, Test: ~4,378,167</li>\n",
    "    <li>Train: ~258,527, Test: ~203,805</li>\n",
    "    <li>Train: ~3,157,653, Test: ~3,159,982</li>\n",
    "    <li>Train: ~244,005, Test: ~190,473</li>\n",
    "</ul>\n",
    "</div>"
   ]
  },
  {
   "cell_type": "code",
   "execution_count": 102,
   "metadata": {},
   "outputs": [
    {
     "name": "stdout",
     "output_type": "stream",
     "text": [
      "244004.7744310419\n",
      "190473.37570967645\n"
     ]
    }
   ],
   "source": [
    "basicErrorTest = mean_squared_error(test_data['price'], basic_model.predict(test_data[basic_features]))\n",
    "print(math.sqrt(basicErrorTest))\n",
    "advancedErrorTest = mean_squared_error(test_data['price'], advanced_model.predict(test_data[advanced_features]))\n",
    "print(math.sqrt(advancedErrorTest))# TODO: Write your code here\n"
   ]
  },
  {
   "cell_type": "markdown",
   "metadata": {},
   "source": [
    "---\n",
    "### Q6) Which model would you choose and why?\n",
    "These questions do not need any code to answer them.\n",
    "### Q6.a) Which model would you choose?\n",
    "\n",
    "<div class=\"alert alert-block alert-success\">\n",
    "<b>Options:</b> Enter one of these options on Gradescope.\n",
    "<ul>\n",
    "    <li>Model with the basic features</li>\n",
    "    <li>Model with the advanced features</li>\n",
    "</ul>\n",
    "</div>\n",
    "\n",
    "### Q6.b) Why?\n",
    "<div class=\"alert alert-block alert-success\">\n",
    "<b>Options:</b> Enter one of these options on Gradescope.\n",
    "<ul>\n",
    "    <li>It has higher training error</li>\n",
    "    <li>It uses more features</li>\n",
    "    <li>It has lower test error</li>\n",
    "    <li>It has lower training error</li>\n",
    "    <li>It has higher test error</li>\n",
    "</ul>\n",
    "</div>\n"
   ]
  }
 ],
 "metadata": {
  "kernelspec": {
   "display_name": "Python 3",
   "language": "python",
   "name": "python3"
  },
  "language_info": {
   "codemirror_mode": {
    "name": "ipython",
    "version": 3
   },
   "file_extension": ".py",
   "mimetype": "text/x-python",
   "name": "python",
   "nbconvert_exporter": "python",
   "pygments_lexer": "ipython3",
   "version": "3.7.4"
  }
 },
 "nbformat": 4,
 "nbformat_minor": 4
}
